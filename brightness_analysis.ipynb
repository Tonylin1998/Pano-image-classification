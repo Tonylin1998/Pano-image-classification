{
 "cells": [
  {
   "cell_type": "code",
   "execution_count": 9,
   "metadata": {},
   "outputs": [],
   "source": [
    "import os\n",
    "import cv2\n",
    "import numpy as np\n",
    "import pandas as pd\n",
    "import re\n",
    "import glob\n",
    "import matplotlib.pyplot as plt"
   ]
  },
  {
   "cell_type": "code",
   "execution_count": 51,
   "metadata": {},
   "outputs": [
    {
     "name": "stdout",
     "output_type": "stream",
     "text": [
      "Index(['A=A1; B=B1; C=B8', 'Unnamed: 1', 'id', 'date', 'Label A1', 'Label A2',\n",
      "       'Label A3', 'Label A4 (不看)', 'Label B1', 'Label B2', 'Label B3',\n",
      "       'Label B4', 'Label B5', 'Label B6', 'Label B7',\n",
      "       'Label B8 (或者簡稱 Label C)', 'Label B9 ', 'Label B10 (不看)', 'Label B11',\n",
      "       'Label B12', 'Label B13', 'Unnamed: 21', 'Unnamed: 22', 'Unnamed: 23',\n",
      "       'Unnamed: 24', 'Unnamed: 25', 'Unnamed: 26', 'Unnamed: 27',\n",
      "       'Unnamed: 28', 'Unnamed: 29', 'Unnamed: 30', 'Unnamed: 31',\n",
      "       'Unnamed: 32', 'Unnamed: 33', 'Unnamed: 34', 'Unnamed: 35'],\n",
      "      dtype='object')\n",
      "lenlen 211\n"
     ]
    }
   ],
   "source": [
    "def parser_date(input_date):\n",
    "    date1 = input_date.split('-')\n",
    "    date2 = input_date.split('/')\n",
    "    date3 = re.findall(r'\\d+', input_date)\n",
    "    if(len(date1) == 3):\n",
    "        m = int(date3[0])\n",
    "        d = int(date3[1])\n",
    "        y = int(date3[2])\n",
    "        date_str = '{:04}{:02}{:02}'.format(y,m,d)\n",
    "    elif(len(date2) == 3):\n",
    "        y = int(date3[0])\n",
    "        m = int(date3[1])\n",
    "        d = int(date3[2])\n",
    "        date_str = '{:04}{:02}{:02}'.format(y,m,d)\n",
    "    else:\n",
    "        y = int(date3[0])\n",
    "        m = int(date3[1])\n",
    "        d = int(date3[2])\n",
    "        date_str = '{:04}{:02}{:02}'.format(y,m,d)\n",
    "    return date_str\n",
    "\n",
    "\n",
    "data_dir = './'\n",
    "filenames = [] \n",
    "labels = []\n",
    "pd_data1 = pd.read_csv(os.path.join(data_dir, 'data1.csv'),  encoding = \"utf-8\")\n",
    "print(pd_data1.columns)\n",
    "pd_data2 = pd.read_csv(os.path.join(data_dir, 'data2.csv'),  encoding = \"utf-8\")\n",
    "pd_data3 = pd.read_csv(os.path.join(data_dir, 'data3.csv'),  encoding = \"utf-8\")\n",
    "\n",
    "ids = pd_data1['id'].to_numpy()[1:]\n",
    "dates = pd_data1['date'].to_numpy()[1:]\n",
    "\n",
    "label_a1 = pd_data1['Label A1'].to_numpy()[1:]\n",
    "label_b1 = pd_data1['Label B8 (或者簡稱 Label C)'].to_numpy()[1:]\n",
    "\n",
    "assert(len(ids) == len(dates))\n",
    "for i, id, date in zip((range(len(ids))), ids, dates):\n",
    "    #print(i, type(date), date)\n",
    "    if(isinstance(date, str)):\n",
    "        date = parser_date(date)\n",
    "        possible_img = glob.glob(os.path.join('./mandible', '{}_{}_*.png'.format(id, date)))\n",
    "        for img_path in possible_img:\n",
    "            filenames.append(img_path)\n",
    "\n",
    "            if(label_a1[i] == 'Y'):\n",
    "                a1 = 1\n",
    "            else:\n",
    "                a1 = 0\n",
    "\n",
    "            if(label_b1[i] == 'Y'):\n",
    "                b1 = 1\n",
    "            else:\n",
    "                b1 = 0\n",
    "            labels.append([a1, b1])\n",
    "\n",
    "            #img = Image.open(img_path)\n",
    "            #img = np.array(img)\n",
    "            #print(img.shape)\n",
    "\n",
    "ids = pd_data2['id'].to_numpy()[1:]\n",
    "dates = pd_data2['date'].to_numpy()[1:]\n",
    "\n",
    "label_a1 = pd_data2['Label A1'].to_numpy()[1:]\n",
    "label_b1 = pd_data2['Label B8 (或者簡稱 Label C)'].to_numpy()[1:]\n",
    "\n",
    "assert(len(ids) == len(dates))\n",
    "for i, id, date in zip((range(len(ids))), ids, dates):\n",
    "    #print(i, type(date), date)\n",
    "    if(isinstance(date, str)):\n",
    "        date = parser_date(date)\n",
    "        possible_img = glob.glob(os.path.join('./mandible', '{}_{}_*.png'.format(id, date)))\n",
    "        for img_path in possible_img:\n",
    "            filenames.append(img_path)\n",
    "\n",
    "            if(label_a1[i] == 'Y'):\n",
    "                a1 = 1\n",
    "            else:\n",
    "                a1 = 0\n",
    "\n",
    "            if(label_b1[i] == 'Y'):\n",
    "                b1 = 1\n",
    "            else:\n",
    "                b1 = 0\n",
    "            labels.append([a1, b1])\n",
    "\n",
    "\n",
    "\n",
    "filename = pd_data3['filename'].to_numpy()[1:]\n",
    "label_a1 = pd_data3['Label A1'].to_numpy()[1:]\n",
    "label_b1 = pd_data3['Label B8 (或者簡稱 Label C)'].to_numpy()[1:]\n",
    "\n",
    "\n",
    "for i in range(len(filename)):\n",
    "    #print(i, type(date), date)\n",
    "    if(isinstance(filename[i], str)):\n",
    "        filenames.append(os.path.join('./mandible', str(filename[i])+'.png'))\n",
    "\n",
    "        if(label_a1[i] == 'Y'):\n",
    "            a1 = 1\n",
    "        else:\n",
    "            a1 = 0\n",
    "\n",
    "        if(label_b1[i] == 'Y'):\n",
    "            b1 = 1\n",
    "        else:\n",
    "            b1 = 0\n",
    "        labels.append([a1, b1])\n",
    "\n",
    "print('lenlen', len(labels))"
   ]
  },
  {
   "cell_type": "code",
   "execution_count": 52,
   "metadata": {},
   "outputs": [
    {
     "name": "stdout",
     "output_type": "stream",
     "text": [
      "211\n",
      "[[0, 0], [0, 0], [0, 0], [1, 1], [1, 0]]\n",
      "['./mandible\\\\3147916_20201209_CR_1_1.png', './mandible\\\\6510414_20201209_CR_1_1.png', './mandible\\\\6603343_20201209_PX_1_1.png', './mandible\\\\6807058_20201209_PX_1_1.png', './mandible\\\\4249331_20201209_PX_1_1.png']\n"
     ]
    }
   ],
   "source": [
    "print(len(filenames))\n",
    "print(labels[:5])\n",
    "print(filenames[:5])"
   ]
  },
  {
   "cell_type": "code",
   "execution_count": 53,
   "metadata": {
    "scrolled": true
   },
   "outputs": [
    {
     "name": "stdout",
     "output_type": "stream",
     "text": [
      "'>' not supported between instances of 'NoneType' and 'int'\n",
      "./mandible\\2295172_20190225_PX_1_1.png\n",
      "'>' not supported between instances of 'NoneType' and 'int'\n",
      "./mandible\\2295172_20191216_PX_1_1.png\n",
      "'>' not supported between instances of 'NoneType' and 'int'\n",
      "./mandible\\5146742_20070301_CR_1_1.png\n"
     ]
    }
   ],
   "source": [
    "b1p = []\n",
    "b1n = []\n",
    "\n",
    "for idx, i in enumerate(filenames):\n",
    "    img = cv2.imread(i)\n",
    "    try:\n",
    "        tb = np.sum(img)\n",
    "        area = np.sum(img > 0)\n",
    "    \n",
    "        if labels[idx][1] == 1:\n",
    "            b1p.append(tb / area)\n",
    "        else:\n",
    "            b1n.append(tb / area)\n",
    "            \n",
    "    except Exception as e:\n",
    "        print(e)\n",
    "        print(i)"
   ]
  },
  {
   "cell_type": "code",
   "execution_count": 55,
   "metadata": {},
   "outputs": [
    {
     "name": "stdout",
     "output_type": "stream",
     "text": [
      "129.41468680043388\n",
      "12.317084033974899\n",
      "126.14490883050742\n",
      "12.896413846801378\n",
      "45\n",
      "163\n"
     ]
    },
    {
     "data": {
      "image/png": "[encoded data removed]",
      "text/plain": [
       "<Figure size 432x288 with 1 Axes>"
      ]
     },
     "metadata": {
      "needs_background": "light"
     },
     "output_type": "display_data"
    },
    {
     "data": {
      "image/png": "[encoded data removed]",
      "text/plain": [
       "<Figure size 432x288 with 1 Axes>"
      ]
     },
     "metadata": {
      "needs_background": "light"
     },
     "output_type": "display_data"
    }
   ],
   "source": [
    "print(np.mean(b1p))\n",
    "print(np.std(b1p))\n",
    "print(np.mean(b1n))\n",
    "print(np.std(b1n))\n",
    "\n",
    "\n",
    "print(len(b1p))\n",
    "print(len(b1n))\n",
    "\n",
    "plt.title('B8(CVD) positive')\n",
    "plt.xlabel('avg brightness')\n",
    "plt.ylabel('img count')\n",
    "plt.hist(b1p)\n",
    "plt.show()\n",
    "\n",
    "plt.title('B8(CVD) negative')\n",
    "plt.xlabel('avg brightness')\n",
    "plt.ylabel('img count')\n",
    "plt.hist(b1n)\n",
    "plt.show()"
   ]
  },
  {
   "cell_type": "code",
   "execution_count": 40,
   "metadata": {},
   "outputs": [
    {
     "name": "stdout",
     "output_type": "stream",
     "text": [
      "'>' not supported between instances of 'NoneType' and 'int'\n",
      "./mandible\\2295172_20190225_PX_1_1.png\n",
      "'>' not supported between instances of 'NoneType' and 'int'\n",
      "./mandible\\2295172_20191216_PX_1_1.png\n",
      "'>' not supported between instances of 'NoneType' and 'int'\n",
      "./mandible\\5146742_20070301_CR_1_1.png\n"
     ]
    }
   ],
   "source": [
    "a1p = []\n",
    "a1n = []\n",
    "\n",
    "for idx, i in enumerate(filenames):\n",
    "    img = cv2.imread(i)\n",
    "    try:\n",
    "        tb = np.sum(img)\n",
    "        area = np.sum(img > 0)\n",
    "    \n",
    "        if labels[idx][0] == 1:\n",
    "            a1p.append(tb / area)\n",
    "        else:\n",
    "            a1n.append(tb / area)\n",
    "            \n",
    "    except Exception as e:\n",
    "        print(e)\n",
    "        print(i)"
   ]
  },
  {
   "cell_type": "code",
   "execution_count": 43,
   "metadata": {},
   "outputs": [
    {
     "name": "stdout",
     "output_type": "stream",
     "text": [
      "128.79320626459722\n",
      "10.888144161831464\n",
      "125.28272054595384\n",
      "14.035604939423013\n",
      "93\n",
      "115\n"
     ]
    },
    {
     "data": {
      "image/png": "[encoded data removed]",
      "text/plain": [
       "<Figure size 432x288 with 1 Axes>"
      ]
     },
     "metadata": {
      "needs_background": "light"
     },
     "output_type": "display_data"
    },
    {
     "data": {
      "image/png": "[encoded data removed]",
      "text/plain": [
       "<Figure size 432x288 with 1 Axes>"
      ]
     },
     "metadata": {
      "needs_background": "light"
     },
     "output_type": "display_data"
    }
   ],
   "source": [
    "print(np.mean(a1p))\n",
    "print(np.std(a1p))\n",
    "print(np.mean(a1n))\n",
    "print(np.std(a1n))\n",
    "\n",
    "\n",
    "print(len(a1p))\n",
    "print(len(a1n))\n",
    "\n",
    "plt.title('A1(periodontitis) positive')\n",
    "plt.xlabel('avg brightness')\n",
    "plt.ylabel('img count')\n",
    "plt.hist(a1p)\n",
    "plt.show()\n",
    "plt.title('A1(periodontitis) negative')\n",
    "plt.xlabel('avg brightness')\n",
    "plt.ylabel('img count')\n",
    "plt.hist(a1n)\n",
    "plt.show()"
   ]
  },
  {
   "cell_type": "code",
   "execution_count": null,
   "metadata": {},
   "outputs": [],
   "source": []
  }
 ],
 "metadata": {
  "kernelspec": {
   "display_name": "Python 3",
   "language": "python",
   "name": "python3"
  },
  "language_info": {
   "codemirror_mode": {
    "name": "ipython",
    "version": 3
   },
   "file_extension": ".py",
   "mimetype": "text/x-python",
   "name": "python",
   "nbconvert_exporter": "python",
   "pygments_lexer": "ipython3",
   "version": "3.7.3"
  }
 },
 "nbformat": 4,
 "nbformat_minor": 2
}
